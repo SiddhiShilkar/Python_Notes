{
 "cells": [
  {
   "cell_type": "markdown",
   "id": "61751743",
   "metadata": {},
   "source": [
    "# DAY 2: OPERATORS"
   ]
  },
  {
   "cell_type": "markdown",
   "id": "f1b4b4ce",
   "metadata": {},
   "source": [
    "Arithmetic Operators"
   ]
  },
  {
   "cell_type": "code",
   "execution_count": 1,
   "id": "2b33a4d1",
   "metadata": {},
   "outputs": [],
   "source": [
    "a=20\n",
    "b=2"
   ]
  },
  {
   "cell_type": "code",
   "execution_count": 2,
   "id": "38fa7e59",
   "metadata": {},
   "outputs": [
    {
     "data": {
      "text/plain": [
       "22"
      ]
     },
     "execution_count": 2,
     "metadata": {},
     "output_type": "execute_result"
    }
   ],
   "source": [
    "a+b"
   ]
  },
  {
   "cell_type": "code",
   "execution_count": 3,
   "id": "2c9789d0",
   "metadata": {},
   "outputs": [
    {
     "data": {
      "text/plain": [
       "18"
      ]
     },
     "execution_count": 3,
     "metadata": {},
     "output_type": "execute_result"
    }
   ],
   "source": [
    "a-b"
   ]
  },
  {
   "cell_type": "code",
   "execution_count": 4,
   "id": "d95ca535",
   "metadata": {},
   "outputs": [
    {
     "data": {
      "text/plain": [
       "40"
      ]
     },
     "execution_count": 4,
     "metadata": {},
     "output_type": "execute_result"
    }
   ],
   "source": [
    "a*b"
   ]
  },
  {
   "cell_type": "code",
   "execution_count": 5,
   "id": "2bcc53e8",
   "metadata": {},
   "outputs": [
    {
     "data": {
      "text/plain": [
       "10.0"
      ]
     },
     "execution_count": 5,
     "metadata": {},
     "output_type": "execute_result"
    }
   ],
   "source": [
    "a/b"
   ]
  },
  {
   "cell_type": "code",
   "execution_count": 6,
   "id": "2b4a8125",
   "metadata": {},
   "outputs": [
    {
     "data": {
      "text/plain": [
       "10"
      ]
     },
     "execution_count": 6,
     "metadata": {},
     "output_type": "execute_result"
    }
   ],
   "source": [
    "a//b"
   ]
  },
  {
   "cell_type": "code",
   "execution_count": 7,
   "id": "da93d949",
   "metadata": {},
   "outputs": [
    {
     "data": {
      "text/plain": [
       "0"
      ]
     },
     "execution_count": 7,
     "metadata": {},
     "output_type": "execute_result"
    }
   ],
   "source": [
    "a%b"
   ]
  },
  {
   "cell_type": "code",
   "execution_count": 8,
   "id": "d8cd2542",
   "metadata": {},
   "outputs": [
    {
     "data": {
      "text/plain": [
       "400"
      ]
     },
     "execution_count": 8,
     "metadata": {},
     "output_type": "execute_result"
    }
   ],
   "source": [
    "a**b"
   ]
  },
  {
   "cell_type": "code",
   "execution_count": 9,
   "id": "18372fca",
   "metadata": {},
   "outputs": [
    {
     "data": {
      "text/plain": [
       "8"
      ]
     },
     "execution_count": 9,
     "metadata": {},
     "output_type": "execute_result"
    }
   ],
   "source": [
    "2**3"
   ]
  },
  {
   "cell_type": "code",
   "execution_count": 10,
   "id": "97c3653b",
   "metadata": {},
   "outputs": [
    {
     "data": {
      "text/plain": [
       "9765625"
      ]
     },
     "execution_count": 10,
     "metadata": {},
     "output_type": "execute_result"
    }
   ],
   "source": [
    "5**10"
   ]
  },
  {
   "cell_type": "code",
   "execution_count": 11,
   "id": "ffac0386",
   "metadata": {},
   "outputs": [
    {
     "data": {
      "text/plain": [
       "3.0"
      ]
     },
     "execution_count": 11,
     "metadata": {},
     "output_type": "execute_result"
    }
   ],
   "source": [
    "20.5//6"
   ]
  },
  {
   "cell_type": "code",
   "execution_count": 12,
   "id": "71f500af",
   "metadata": {},
   "outputs": [
    {
     "data": {
      "text/plain": [
       "9.0"
      ]
     },
     "execution_count": 12,
     "metadata": {},
     "output_type": "execute_result"
    }
   ],
   "source": [
    "81**0.5"
   ]
  },
  {
   "cell_type": "code",
   "execution_count": 13,
   "id": "78d4f8e5",
   "metadata": {},
   "outputs": [
    {
     "data": {
      "text/plain": [
       "3.0"
      ]
     },
     "execution_count": 13,
     "metadata": {},
     "output_type": "execute_result"
    }
   ],
   "source": [
    "27**(1/3)"
   ]
  },
  {
   "cell_type": "code",
   "execution_count": 21,
   "id": "5d28469b",
   "metadata": {},
   "outputs": [
    {
     "data": {
      "text/plain": [
       "' noopur noopur noopur noopur noopur noopur noopur noopur'"
      ]
     },
     "execution_count": 21,
     "metadata": {},
     "output_type": "execute_result"
    }
   ],
   "source": [
    "' noopur'*8"
   ]
  },
  {
   "cell_type": "code",
   "execution_count": 22,
   "id": "176e541b",
   "metadata": {},
   "outputs": [
    {
     "data": {
      "text/plain": [
       "' siddhi siddhi siddhi siddhi siddhi siddhi siddhi siddhi'"
      ]
     },
     "execution_count": 22,
     "metadata": {},
     "output_type": "execute_result"
    }
   ],
   "source": [
    "\" siddhi\"*8"
   ]
  },
  {
   "cell_type": "code",
   "execution_count": 16,
   "id": "a4df6a1d",
   "metadata": {},
   "outputs": [
    {
     "ename": "TypeError",
     "evalue": "can only concatenate str (not \"int\") to str",
     "output_type": "error",
     "traceback": [
      "\u001b[1;31m---------------------------------------------------------------------------\u001b[0m",
      "\u001b[1;31mTypeError\u001b[0m                                 Traceback (most recent call last)",
      "Cell \u001b[1;32mIn[16], line 1\u001b[0m\n\u001b[1;32m----> 1\u001b[0m \u001b[38;5;124;43m\"\u001b[39;49m\u001b[38;5;124;43mnoopur\u001b[39;49m\u001b[38;5;124;43m\"\u001b[39;49m\u001b[38;5;241;43m+\u001b[39;49m\u001b[38;5;241;43m2\u001b[39;49m\n",
      "\u001b[1;31mTypeError\u001b[0m: can only concatenate str (not \"int\") to str"
     ]
    }
   ],
   "source": [
    "\"noopur\"+2"
   ]
  },
  {
   "cell_type": "code",
   "execution_count": 19,
   "id": "8da85765",
   "metadata": {},
   "outputs": [
    {
     "data": {
      "text/plain": [
       "'siddhi noopur'"
      ]
     },
     "execution_count": 19,
     "metadata": {},
     "output_type": "execute_result"
    }
   ],
   "source": [
    "\"siddhi\"+\" noopur\"   #concatenates 2 strings"
   ]
  },
  {
   "cell_type": "code",
   "execution_count": 1,
   "id": "22711fea",
   "metadata": {},
   "outputs": [
    {
     "ename": "TypeError",
     "evalue": "can't multiply sequence by non-int of type 'float'",
     "output_type": "error",
     "traceback": [
      "\u001b[1;31m---------------------------------------------------------------------------\u001b[0m",
      "\u001b[1;31mTypeError\u001b[0m                                 Traceback (most recent call last)",
      "Cell \u001b[1;32mIn[1], line 1\u001b[0m\n\u001b[1;32m----> 1\u001b[0m \u001b[38;5;124;43m\"\u001b[39;49m\u001b[38;5;124;43mnoopur\u001b[39;49m\u001b[38;5;124;43m\"\u001b[39;49m\u001b[38;5;241;43m*\u001b[39;49m\u001b[38;5;241;43m0.5\u001b[39;49m\n",
      "\u001b[1;31mTypeError\u001b[0m: can't multiply sequence by non-int of type 'float'"
     ]
    }
   ],
   "source": [
    "\"noopur\"*0.5"
   ]
  },
  {
   "cell_type": "markdown",
   "id": "77f19312",
   "metadata": {},
   "source": [
    "Relational Operators"
   ]
  },
  {
   "cell_type": "code",
   "execution_count": 2,
   "id": "e94a3987",
   "metadata": {},
   "outputs": [],
   "source": [
    "a=10\n",
    "b=30"
   ]
  },
  {
   "cell_type": "code",
   "execution_count": 3,
   "id": "3d044dab",
   "metadata": {},
   "outputs": [
    {
     "data": {
      "text/plain": [
       "True"
      ]
     },
     "execution_count": 3,
     "metadata": {},
     "output_type": "execute_result"
    }
   ],
   "source": [
    "a<b"
   ]
  },
  {
   "cell_type": "code",
   "execution_count": 4,
   "id": "695acc94",
   "metadata": {},
   "outputs": [
    {
     "data": {
      "text/plain": [
       "False"
      ]
     },
     "execution_count": 4,
     "metadata": {},
     "output_type": "execute_result"
    }
   ],
   "source": [
    "a>b"
   ]
  },
  {
   "cell_type": "code",
   "execution_count": 5,
   "id": "e9a7fc18",
   "metadata": {},
   "outputs": [
    {
     "data": {
      "text/plain": [
       "True"
      ]
     },
     "execution_count": 5,
     "metadata": {},
     "output_type": "execute_result"
    }
   ],
   "source": [
    "a<=b"
   ]
  },
  {
   "cell_type": "code",
   "execution_count": 6,
   "id": "afbae602",
   "metadata": {},
   "outputs": [
    {
     "data": {
      "text/plain": [
       "False"
      ]
     },
     "execution_count": 6,
     "metadata": {},
     "output_type": "execute_result"
    }
   ],
   "source": [
    "a>=b"
   ]
  },
  {
   "cell_type": "code",
   "execution_count": 7,
   "id": "34191f2c",
   "metadata": {},
   "outputs": [],
   "source": [
    "#relational Operators also works on string"
   ]
  },
  {
   "cell_type": "code",
   "execution_count": 8,
   "id": "f3ebbe55",
   "metadata": {},
   "outputs": [
    {
     "data": {
      "text/plain": [
       "False"
      ]
     },
     "execution_count": 8,
     "metadata": {},
     "output_type": "execute_result"
    }
   ],
   "source": [
    "\"siddhi\"<\"Shilkar\""
   ]
  },
  {
   "cell_type": "code",
   "execution_count": 9,
   "id": "f9c33db7",
   "metadata": {},
   "outputs": [
    {
     "data": {
      "text/plain": [
       "False"
      ]
     },
     "execution_count": 9,
     "metadata": {},
     "output_type": "execute_result"
    }
   ],
   "source": [
    "\"Siddhi\"<\"Shilkar\""
   ]
  },
  {
   "cell_type": "code",
   "execution_count": 10,
   "id": "eaeea44d",
   "metadata": {},
   "outputs": [
    {
     "data": {
      "text/plain": [
       "True"
      ]
     },
     "execution_count": 10,
     "metadata": {},
     "output_type": "execute_result"
    }
   ],
   "source": [
    "\"Noopur\"<\"Siddhi\""
   ]
  },
  {
   "cell_type": "code",
   "execution_count": 11,
   "id": "2822744f",
   "metadata": {},
   "outputs": [
    {
     "data": {
      "text/plain": [
       "107"
      ]
     },
     "execution_count": 11,
     "metadata": {},
     "output_type": "execute_result"
    }
   ],
   "source": [
    "ord(\"k\")"
   ]
  },
  {
   "cell_type": "code",
   "execution_count": 12,
   "id": "283bd22a",
   "metadata": {},
   "outputs": [
    {
     "data": {
      "text/plain": [
       "83"
      ]
     },
     "execution_count": 12,
     "metadata": {},
     "output_type": "execute_result"
    }
   ],
   "source": [
    "ord(\"S\")"
   ]
  },
  {
   "cell_type": "code",
   "execution_count": 13,
   "id": "95c07dd3",
   "metadata": {},
   "outputs": [
    {
     "data": {
      "text/plain": [
       "78"
      ]
     },
     "execution_count": 13,
     "metadata": {},
     "output_type": "execute_result"
    }
   ],
   "source": [
    "ord(\"N\")"
   ]
  },
  {
   "cell_type": "code",
   "execution_count": 14,
   "id": "08a8a19d",
   "metadata": {},
   "outputs": [
    {
     "data": {
      "text/plain": [
       "'\\x02'"
      ]
     },
     "execution_count": 14,
     "metadata": {},
     "output_type": "execute_result"
    }
   ],
   "source": [
    "chr(2)"
   ]
  },
  {
   "cell_type": "code",
   "execution_count": 15,
   "id": "c94fed04",
   "metadata": {},
   "outputs": [
    {
     "data": {
      "text/plain": [
       "'\\x19'"
      ]
     },
     "execution_count": 15,
     "metadata": {},
     "output_type": "execute_result"
    }
   ],
   "source": [
    "chr(25)"
   ]
  },
  {
   "cell_type": "code",
   "execution_count": 16,
   "id": "07ad1626",
   "metadata": {},
   "outputs": [
    {
     "data": {
      "text/plain": [
       "'Y'"
      ]
     },
     "execution_count": 16,
     "metadata": {},
     "output_type": "execute_result"
    }
   ],
   "source": [
    "chr(89)"
   ]
  },
  {
   "cell_type": "code",
   "execution_count": 17,
   "id": "bd8bc549",
   "metadata": {},
   "outputs": [
    {
     "data": {
      "text/plain": [
       "97"
      ]
     },
     "execution_count": 17,
     "metadata": {},
     "output_type": "execute_result"
    }
   ],
   "source": [
    "ord('a')"
   ]
  },
  {
   "cell_type": "code",
   "execution_count": 18,
   "id": "b37bf077",
   "metadata": {},
   "outputs": [
    {
     "data": {
      "text/plain": [
       "122"
      ]
     },
     "execution_count": 18,
     "metadata": {},
     "output_type": "execute_result"
    }
   ],
   "source": [
    "ord('z')"
   ]
  },
  {
   "cell_type": "code",
   "execution_count": 19,
   "id": "33d026d7",
   "metadata": {},
   "outputs": [
    {
     "data": {
      "text/plain": [
       "65"
      ]
     },
     "execution_count": 19,
     "metadata": {},
     "output_type": "execute_result"
    }
   ],
   "source": [
    "ord('A')"
   ]
  },
  {
   "cell_type": "code",
   "execution_count": 20,
   "id": "6d06e9ab",
   "metadata": {},
   "outputs": [
    {
     "data": {
      "text/plain": [
       "90"
      ]
     },
     "execution_count": 20,
     "metadata": {},
     "output_type": "execute_result"
    }
   ],
   "source": [
    "ord('Z')"
   ]
  },
  {
   "cell_type": "code",
   "execution_count": 21,
   "id": "3c78a1c6",
   "metadata": {},
   "outputs": [
    {
     "data": {
      "text/plain": [
       "'e'"
      ]
     },
     "execution_count": 21,
     "metadata": {},
     "output_type": "execute_result"
    }
   ],
   "source": [
    "chr(101)"
   ]
  },
  {
   "cell_type": "code",
   "execution_count": 22,
   "id": "0cbc1819",
   "metadata": {},
   "outputs": [
    {
     "data": {
      "text/plain": [
       "'T'"
      ]
     },
     "execution_count": 22,
     "metadata": {},
     "output_type": "execute_result"
    }
   ],
   "source": [
    "chr(84)"
   ]
  },
  {
   "cell_type": "code",
   "execution_count": 23,
   "id": "f2c5958d",
   "metadata": {},
   "outputs": [
    {
     "ename": "NameError",
     "evalue": "name 'j' is not defined",
     "output_type": "error",
     "traceback": [
      "\u001b[1;31m---------------------------------------------------------------------------\u001b[0m",
      "\u001b[1;31mNameError\u001b[0m                                 Traceback (most recent call last)",
      "Cell \u001b[1;32mIn[23], line 1\u001b[0m\n\u001b[1;32m----> 1\u001b[0m \u001b[38;5;241m2\u001b[39m\u001b[38;5;241m+\u001b[39m\u001b[38;5;241m9\u001b[39mj\u001b[38;5;241m<\u001b[39m\u001b[38;5;241m9\u001b[39m\u001b[38;5;241m+\u001b[39m\u001b[43mj\u001b[49m\n",
      "\u001b[1;31mNameError\u001b[0m: name 'j' is not defined"
     ]
    }
   ],
   "source": [
    "2+9j<9+j   #complex numbers cannot be compared"
   ]
  },
  {
   "cell_type": "code",
   "execution_count": 24,
   "id": "a4fbb437",
   "metadata": {},
   "outputs": [
    {
     "data": {
      "text/plain": [
       "False"
      ]
     },
     "execution_count": 24,
     "metadata": {},
     "output_type": "execute_result"
    }
   ],
   "source": [
    "10<20>=30<40\n",
    "#10<20==>True\n",
    "#20>=30==>False\n",
    "#30<40==>True           #if one of the condition is false..the statement is false"
   ]
  },
  {
   "cell_type": "code",
   "execution_count": 26,
   "id": "3e3d1c62",
   "metadata": {},
   "outputs": [
    {
     "data": {
      "text/plain": [
       "True"
      ]
     },
     "execution_count": 26,
     "metadata": {},
     "output_type": "execute_result"
    }
   ],
   "source": [
    "10<20<=30<40\n",
    "#10<20==>true\n",
    "#20<=30==>True\n",
    "#30<40==>True     #all conditions should be true..for result to be true"
   ]
  },
  {
   "cell_type": "code",
   "execution_count": 27,
   "id": "f0dde43b",
   "metadata": {},
   "outputs": [],
   "source": [
    "a=10"
   ]
  },
  {
   "cell_type": "code",
   "execution_count": 28,
   "id": "5dab1f86",
   "metadata": {},
   "outputs": [
    {
     "data": {
      "text/plain": [
       "1993060450832"
      ]
     },
     "execution_count": 28,
     "metadata": {},
     "output_type": "execute_result"
    }
   ],
   "source": [
    "id(a)"
   ]
  },
  {
   "cell_type": "code",
   "execution_count": 29,
   "id": "520882c2",
   "metadata": {},
   "outputs": [],
   "source": [
    "a=999999"
   ]
  },
  {
   "cell_type": "code",
   "execution_count": 30,
   "id": "3a4c2489",
   "metadata": {},
   "outputs": [
    {
     "data": {
      "text/plain": [
       "1993168058352"
      ]
     },
     "execution_count": 30,
     "metadata": {},
     "output_type": "execute_result"
    }
   ],
   "source": [
    "id(a)"
   ]
  },
  {
   "cell_type": "code",
   "execution_count": 31,
   "id": "fdd2b6c7",
   "metadata": {},
   "outputs": [],
   "source": [
    "n=\"siddhi\""
   ]
  },
  {
   "cell_type": "code",
   "execution_count": 32,
   "id": "5dc19f89",
   "metadata": {},
   "outputs": [
    {
     "data": {
      "text/plain": [
       "1993168969456"
      ]
     },
     "execution_count": 32,
     "metadata": {},
     "output_type": "execute_result"
    }
   ],
   "source": [
    "id(n)"
   ]
  },
  {
   "cell_type": "code",
   "execution_count": 33,
   "id": "ef0835e0",
   "metadata": {},
   "outputs": [],
   "source": [
    "n=\"noopur\""
   ]
  },
  {
   "cell_type": "code",
   "execution_count": 34,
   "id": "d5e1902d",
   "metadata": {},
   "outputs": [
    {
     "data": {
      "text/plain": [
       "1993140593520"
      ]
     },
     "execution_count": 34,
     "metadata": {},
     "output_type": "execute_result"
    }
   ],
   "source": [
    "id(n)"
   ]
  },
  {
   "cell_type": "code",
   "execution_count": 35,
   "id": "7d246911",
   "metadata": {},
   "outputs": [],
   "source": [
    "b=10"
   ]
  },
  {
   "cell_type": "code",
   "execution_count": 36,
   "id": "6373c68d",
   "metadata": {},
   "outputs": [
    {
     "data": {
      "text/plain": [
       "1993060450832"
      ]
     },
     "execution_count": 36,
     "metadata": {},
     "output_type": "execute_result"
    }
   ],
   "source": [
    "id(b)"
   ]
  },
  {
   "cell_type": "code",
   "execution_count": 37,
   "id": "7b86e59f",
   "metadata": {},
   "outputs": [],
   "source": [
    "b=b+1"
   ]
  },
  {
   "cell_type": "code",
   "execution_count": 38,
   "id": "141ff314",
   "metadata": {},
   "outputs": [
    {
     "data": {
      "text/plain": [
       "1993060450864"
      ]
     },
     "execution_count": 38,
     "metadata": {},
     "output_type": "execute_result"
    }
   ],
   "source": [
    "id(b)"
   ]
  },
  {
   "cell_type": "code",
   "execution_count": 47,
   "id": "d6f3aeec",
   "metadata": {},
   "outputs": [
    {
     "name": "stdout",
     "output_type": "stream",
     "text": [
      "10\n",
      "90\n"
     ]
    }
   ],
   "source": [
    "a=input()\n",
    "b=input()"
   ]
  },
  {
   "cell_type": "code",
   "execution_count": 48,
   "id": "e77be180",
   "metadata": {},
   "outputs": [
    {
     "data": {
      "text/plain": [
       "'1090'"
      ]
     },
     "execution_count": 48,
     "metadata": {},
     "output_type": "execute_result"
    }
   ],
   "source": [
    "a+b"
   ]
  },
  {
   "cell_type": "code",
   "execution_count": 51,
   "id": "7de7d841",
   "metadata": {},
   "outputs": [
    {
     "name": "stdout",
     "output_type": "stream",
     "text": [
      "50\n",
      "<class 'str'>\n"
     ]
    }
   ],
   "source": [
    "a=input()\n",
    "print(type(a))"
   ]
  },
  {
   "cell_type": "code",
   "execution_count": 54,
   "id": "3f6553fc",
   "metadata": {},
   "outputs": [
    {
     "name": "stdout",
     "output_type": "stream",
     "text": [
      "60\n",
      "10\n"
     ]
    }
   ],
   "source": [
    "a=int(input())\n",
    "b=int(input())"
   ]
  },
  {
   "cell_type": "code",
   "execution_count": 55,
   "id": "d6098e81",
   "metadata": {},
   "outputs": [
    {
     "data": {
      "text/plain": [
       "70"
      ]
     },
     "execution_count": 55,
     "metadata": {},
     "output_type": "execute_result"
    }
   ],
   "source": [
    "a+b"
   ]
  },
  {
   "cell_type": "code",
   "execution_count": 56,
   "id": "a698afad",
   "metadata": {},
   "outputs": [
    {
     "data": {
      "text/plain": [
       "False"
      ]
     },
     "execution_count": 56,
     "metadata": {},
     "output_type": "execute_result"
    }
   ],
   "source": [
    "10==2"
   ]
  },
  {
   "cell_type": "code",
   "execution_count": 57,
   "id": "75728c3b",
   "metadata": {},
   "outputs": [
    {
     "data": {
      "text/plain": [
       "True"
      ]
     },
     "execution_count": 57,
     "metadata": {},
     "output_type": "execute_result"
    }
   ],
   "source": [
    "10!=2   #not equal"
   ]
  },
  {
   "cell_type": "code",
   "execution_count": 58,
   "id": "34386651",
   "metadata": {},
   "outputs": [
    {
     "data": {
      "text/plain": [
       "False"
      ]
     },
     "execution_count": 58,
     "metadata": {},
     "output_type": "execute_result"
    }
   ],
   "source": [
    "10==\"noopur\""
   ]
  },
  {
   "cell_type": "code",
   "execution_count": 59,
   "id": "d1e619b9",
   "metadata": {},
   "outputs": [
    {
     "data": {
      "text/plain": [
       "True"
      ]
     },
     "execution_count": 59,
     "metadata": {},
     "output_type": "execute_result"
    }
   ],
   "source": [
    "10!=3+5j"
   ]
  },
  {
   "cell_type": "code",
   "execution_count": 60,
   "id": "f1155525",
   "metadata": {},
   "outputs": [
    {
     "data": {
      "text/plain": [
       "False"
      ]
     },
     "execution_count": 60,
     "metadata": {},
     "output_type": "execute_result"
    }
   ],
   "source": [
    "10==3+4j"
   ]
  },
  {
   "cell_type": "markdown",
   "id": "f0673dd3",
   "metadata": {},
   "source": [
    "Logical Operators "
   ]
  },
  {
   "cell_type": "raw",
   "id": "3556ea69",
   "metadata": {},
   "source": [
    "AND operator: If a is false, it returns a, otherwise b"
   ]
  },
  {
   "cell_type": "code",
   "execution_count": 62,
   "id": "8a26bb96",
   "metadata": {},
   "outputs": [
    {
     "data": {
      "text/plain": [
       "0"
      ]
     },
     "execution_count": 62,
     "metadata": {},
     "output_type": "execute_result"
    }
   ],
   "source": [
    "0 and 15 "
   ]
  },
  {
   "cell_type": "code",
   "execution_count": 63,
   "id": "81e17724",
   "metadata": {},
   "outputs": [
    {
     "data": {
      "text/plain": [
       "0.0"
      ]
     },
     "execution_count": 63,
     "metadata": {},
     "output_type": "execute_result"
    }
   ],
   "source": [
    "0.0 and 79"
   ]
  },
  {
   "cell_type": "code",
   "execution_count": 64,
   "id": "cc9634cf",
   "metadata": {},
   "outputs": [
    {
     "data": {
      "text/plain": [
       "15"
      ]
     },
     "execution_count": 64,
     "metadata": {},
     "output_type": "execute_result"
    }
   ],
   "source": [
    "10 and 15"
   ]
  },
  {
   "cell_type": "code",
   "execution_count": 1,
   "id": "f1841639",
   "metadata": {},
   "outputs": [
    {
     "data": {
      "text/plain": [
       "'siddhi'"
      ]
     },
     "execution_count": 1,
     "metadata": {},
     "output_type": "execute_result"
    }
   ],
   "source": [
    "10 and \"siddhi\""
   ]
  },
  {
   "cell_type": "code",
   "execution_count": 2,
   "id": "4322297a",
   "metadata": {},
   "outputs": [
    {
     "data": {
      "text/plain": [
       "0"
      ]
     },
     "execution_count": 2,
     "metadata": {},
     "output_type": "execute_result"
    }
   ],
   "source": [
    "0 and \"siddhi\""
   ]
  },
  {
   "cell_type": "code",
   "execution_count": 3,
   "id": "32fb4d44",
   "metadata": {},
   "outputs": [
    {
     "data": {
      "text/plain": [
       "''"
      ]
     },
     "execution_count": 3,
     "metadata": {},
     "output_type": "execute_result"
    }
   ],
   "source": [
    "\"\" and (2+3j)"
   ]
  },
  {
   "cell_type": "code",
   "execution_count": 5,
   "id": "076a1175",
   "metadata": {},
   "outputs": [
    {
     "data": {
      "text/plain": [
       "''"
      ]
     },
     "execution_count": 5,
     "metadata": {},
     "output_type": "execute_result"
    }
   ],
   "source": [
    "(2+3j) and \"\""
   ]
  },
  {
   "cell_type": "markdown",
   "id": "c3b13799",
   "metadata": {},
   "source": [
    "OR operator: If a is True, result is a, otherwise b"
   ]
  },
  {
   "cell_type": "code",
   "execution_count": 7,
   "id": "233645b3",
   "metadata": {},
   "outputs": [
    {
     "data": {
      "text/plain": [
       "0.0"
      ]
     },
     "execution_count": 7,
     "metadata": {},
     "output_type": "execute_result"
    }
   ],
   "source": [
    "0 or 0.0"
   ]
  },
  {
   "cell_type": "code",
   "execution_count": 8,
   "id": "e1d35564",
   "metadata": {},
   "outputs": [
    {
     "data": {
      "text/plain": [
       "0"
      ]
     },
     "execution_count": 8,
     "metadata": {},
     "output_type": "execute_result"
    }
   ],
   "source": [
    "0.0 or 0"
   ]
  },
  {
   "cell_type": "code",
   "execution_count": 9,
   "id": "577f03df",
   "metadata": {},
   "outputs": [
    {
     "data": {
      "text/plain": [
       "0.1"
      ]
     },
     "execution_count": 9,
     "metadata": {},
     "output_type": "execute_result"
    }
   ],
   "source": [
    "0.1 or \"siddhi\""
   ]
  },
  {
   "cell_type": "code",
   "execution_count": 10,
   "id": "348130f0",
   "metadata": {},
   "outputs": [
    {
     "data": {
      "text/plain": [
       "0.9"
      ]
     },
     "execution_count": 10,
     "metadata": {},
     "output_type": "execute_result"
    }
   ],
   "source": [
    "0.9 or (3+5j)"
   ]
  },
  {
   "cell_type": "markdown",
   "id": "a7c2bdbe",
   "metadata": {},
   "source": [
    "NOT operator: if false, returns true and vis versa"
   ]
  },
  {
   "cell_type": "code",
   "execution_count": 12,
   "id": "4c67bc78",
   "metadata": {},
   "outputs": [
    {
     "data": {
      "text/plain": [
       "False"
      ]
     },
     "execution_count": 12,
     "metadata": {},
     "output_type": "execute_result"
    }
   ],
   "source": [
    "not(True)"
   ]
  },
  {
   "cell_type": "code",
   "execution_count": 13,
   "id": "494240ed",
   "metadata": {},
   "outputs": [
    {
     "data": {
      "text/plain": [
       "True"
      ]
     },
     "execution_count": 13,
     "metadata": {},
     "output_type": "execute_result"
    }
   ],
   "source": [
    "not(False)"
   ]
  },
  {
   "cell_type": "code",
   "execution_count": 14,
   "id": "98392ce4",
   "metadata": {},
   "outputs": [
    {
     "data": {
      "text/plain": [
       "False"
      ]
     },
     "execution_count": 14,
     "metadata": {},
     "output_type": "execute_result"
    }
   ],
   "source": [
    "not(5)"
   ]
  },
  {
   "cell_type": "code",
   "execution_count": 15,
   "id": "05d18ad5",
   "metadata": {},
   "outputs": [
    {
     "data": {
      "text/plain": [
       "True"
      ]
     },
     "execution_count": 15,
     "metadata": {},
     "output_type": "execute_result"
    }
   ],
   "source": [
    "not()"
   ]
  },
  {
   "cell_type": "code",
   "execution_count": 16,
   "id": "0f83a4be",
   "metadata": {},
   "outputs": [
    {
     "data": {
      "text/plain": [
       "True"
      ]
     },
     "execution_count": 16,
     "metadata": {},
     "output_type": "execute_result"
    }
   ],
   "source": [
    "not(0)"
   ]
  },
  {
   "cell_type": "code",
   "execution_count": 17,
   "id": "02531ea8",
   "metadata": {},
   "outputs": [
    {
     "data": {
      "text/plain": [
       "False"
      ]
     },
     "execution_count": 17,
     "metadata": {},
     "output_type": "execute_result"
    }
   ],
   "source": [
    "not(3+5j)"
   ]
  },
  {
   "cell_type": "markdown",
   "id": "2aab2cec",
   "metadata": {},
   "source": [
    "Bitwise Operators"
   ]
  },
  {
   "cell_type": "raw",
   "id": "d24e27f5",
   "metadata": {},
   "source": [
    "Conversion of bits"
   ]
  },
  {
   "cell_type": "code",
   "execution_count": 27,
   "id": "03fe0d11",
   "metadata": {},
   "outputs": [
    {
     "data": {
      "text/plain": [
       "'0b111'"
      ]
     },
     "execution_count": 27,
     "metadata": {},
     "output_type": "execute_result"
    }
   ],
   "source": [
    "bin(7)         #convert decimal to binary"
   ]
  },
  {
   "cell_type": "code",
   "execution_count": 28,
   "id": "ce390097",
   "metadata": {},
   "outputs": [
    {
     "data": {
      "text/plain": [
       "7"
      ]
     },
     "execution_count": 28,
     "metadata": {},
     "output_type": "execute_result"
    }
   ],
   "source": [
    "0b0111         #convert binary to decimal"
   ]
  },
  {
   "cell_type": "code",
   "execution_count": 30,
   "id": "f609a6b9",
   "metadata": {},
   "outputs": [
    {
     "data": {
      "text/plain": [
       "83"
      ]
     },
     "execution_count": 30,
     "metadata": {},
     "output_type": "execute_result"
    }
   ],
   "source": [
    "0O123          #convert octal to decimal"
   ]
  },
  {
   "cell_type": "code",
   "execution_count": 31,
   "id": "cec8d31e",
   "metadata": {},
   "outputs": [
    {
     "data": {
      "text/plain": [
       "2766"
      ]
     },
     "execution_count": 31,
     "metadata": {},
     "output_type": "execute_result"
    }
   ],
   "source": [
    "0xACE          #convert hexa to decimal"
   ]
  },
  {
   "cell_type": "raw",
   "id": "61852a6a",
   "metadata": {},
   "source": [
    "Bitwise AND(&):  When both results are 1, result is 1.\n",
    "    0 & 0 = 0\n",
    "    0 & 1 = 0\n",
    "    1 & 0 = 0\n",
    "    1 & 1 = 1"
   ]
  },
  {
   "cell_type": "code",
   "execution_count": 20,
   "id": "98c1e093",
   "metadata": {},
   "outputs": [
    {
     "data": {
      "text/plain": [
       "1"
      ]
     },
     "execution_count": 20,
     "metadata": {},
     "output_type": "execute_result"
    }
   ],
   "source": [
    "5 & 17"
   ]
  },
  {
   "cell_type": "code",
   "execution_count": 19,
   "id": "3565ad46",
   "metadata": {},
   "outputs": [
    {
     "data": {
      "text/plain": [
       "3"
      ]
     },
     "execution_count": 19,
     "metadata": {},
     "output_type": "execute_result"
    }
   ],
   "source": [
    "11 & 23"
   ]
  },
  {
   "cell_type": "code",
   "execution_count": 21,
   "id": "360ed312",
   "metadata": {},
   "outputs": [
    {
     "data": {
      "text/plain": [
       "16"
      ]
     },
     "execution_count": 21,
     "metadata": {},
     "output_type": "execute_result"
    }
   ],
   "source": [
    "18 & 21"
   ]
  },
  {
   "cell_type": "raw",
   "id": "1e34627f",
   "metadata": {},
   "source": [
    "Bitwise OR(|): When both bits are 0, result is 0\n",
    "    0 | 0 = 0\n",
    "    0 | 1 = 1\n",
    "    1 | 0 = 1\n",
    "    1 | 1 = 1 "
   ]
  },
  {
   "cell_type": "code",
   "execution_count": 35,
   "id": "5610dc28",
   "metadata": {},
   "outputs": [
    {
     "data": {
      "text/plain": [
       "31"
      ]
     },
     "execution_count": 35,
     "metadata": {},
     "output_type": "execute_result"
    }
   ],
   "source": [
    "11 | 23 "
   ]
  },
  {
   "cell_type": "code",
   "execution_count": 36,
   "id": "824d98c5",
   "metadata": {},
   "outputs": [
    {
     "data": {
      "text/plain": [
       "'0b1011'"
      ]
     },
     "execution_count": 36,
     "metadata": {},
     "output_type": "execute_result"
    }
   ],
   "source": [
    "bin(11)"
   ]
  },
  {
   "cell_type": "code",
   "execution_count": 37,
   "id": "0fa6fa5f",
   "metadata": {},
   "outputs": [
    {
     "data": {
      "text/plain": [
       "'0b10111'"
      ]
     },
     "execution_count": 37,
     "metadata": {},
     "output_type": "execute_result"
    }
   ],
   "source": [
    "bin(23)     "
   ]
  },
  {
   "cell_type": "code",
   "execution_count": 39,
   "id": "7a35306e",
   "metadata": {},
   "outputs": [
    {
     "data": {
      "text/plain": [
       "31"
      ]
     },
     "execution_count": 39,
     "metadata": {},
     "output_type": "execute_result"
    }
   ],
   "source": [
    "'''\n",
    "01011\n",
    "10111\n",
    "11111\n",
    "'''\n",
    "0b11111"
   ]
  },
  {
   "cell_type": "raw",
   "id": "76af0f37",
   "metadata": {},
   "source": [
    "Bitwise XOR (^) : When both bits are same, result is 0\n",
    "                  When both bits are different, result is 1\n",
    "        0 ^ 0 = 0\n",
    "        1 ^ 1 = 0\n",
    "        1 ^ 0 = 1\n",
    "        0 ^ 1 = 1"
   ]
  },
  {
   "cell_type": "code",
   "execution_count": 40,
   "id": "18fba25e",
   "metadata": {},
   "outputs": [
    {
     "data": {
      "text/plain": [
       "28"
      ]
     },
     "execution_count": 40,
     "metadata": {},
     "output_type": "execute_result"
    }
   ],
   "source": [
    "11 ^ 23"
   ]
  },
  {
   "cell_type": "code",
   "execution_count": 41,
   "id": "76e1c5f8",
   "metadata": {},
   "outputs": [
    {
     "data": {
      "text/plain": [
       "'0b1011'"
      ]
     },
     "execution_count": 41,
     "metadata": {},
     "output_type": "execute_result"
    }
   ],
   "source": [
    "bin (11)"
   ]
  },
  {
   "cell_type": "code",
   "execution_count": 42,
   "id": "ff49bd27",
   "metadata": {},
   "outputs": [
    {
     "data": {
      "text/plain": [
       "'0b10111'"
      ]
     },
     "execution_count": 42,
     "metadata": {},
     "output_type": "execute_result"
    }
   ],
   "source": [
    "bin (23)"
   ]
  },
  {
   "cell_type": "code",
   "execution_count": 44,
   "id": "25bae608",
   "metadata": {},
   "outputs": [
    {
     "data": {
      "text/plain": [
       "28"
      ]
     },
     "execution_count": 44,
     "metadata": {},
     "output_type": "execute_result"
    }
   ],
   "source": [
    "'''\n",
    "01011\n",
    "10111\n",
    "11100\n",
    "'''\n",
    "0b11100"
   ]
  },
  {
   "cell_type": "markdown",
   "id": "15a4bd64",
   "metadata": {},
   "source": [
    "Left Operator"
   ]
  },
  {
   "cell_type": "code",
   "execution_count": 1,
   "id": "133c3986",
   "metadata": {},
   "outputs": [],
   "source": [
    "a=20"
   ]
  },
  {
   "cell_type": "code",
   "execution_count": 2,
   "id": "b78bfb85",
   "metadata": {},
   "outputs": [
    {
     "data": {
      "text/plain": [
       "40"
      ]
     },
     "execution_count": 2,
     "metadata": {},
     "output_type": "execute_result"
    }
   ],
   "source": [
    "a<<1    #20*2=40"
   ]
  },
  {
   "cell_type": "code",
   "execution_count": 3,
   "id": "e8950608",
   "metadata": {},
   "outputs": [
    {
     "data": {
      "text/plain": [
       "80"
      ]
     },
     "execution_count": 3,
     "metadata": {},
     "output_type": "execute_result"
    }
   ],
   "source": [
    "a<<2    #20*2*2=80"
   ]
  },
  {
   "cell_type": "markdown",
   "id": "c4b4322d",
   "metadata": {},
   "source": [
    "Right Shift"
   ]
  },
  {
   "cell_type": "code",
   "execution_count": 4,
   "id": "e6a0f09d",
   "metadata": {},
   "outputs": [],
   "source": [
    "a=40"
   ]
  },
  {
   "cell_type": "code",
   "execution_count": 5,
   "id": "aad28e2c",
   "metadata": {},
   "outputs": [
    {
     "data": {
      "text/plain": [
       "20"
      ]
     },
     "execution_count": 5,
     "metadata": {},
     "output_type": "execute_result"
    }
   ],
   "source": [
    "a>>1    #40/2=20"
   ]
  },
  {
   "cell_type": "code",
   "execution_count": 6,
   "id": "fc44689e",
   "metadata": {},
   "outputs": [
    {
     "data": {
      "text/plain": [
       "10"
      ]
     },
     "execution_count": 6,
     "metadata": {},
     "output_type": "execute_result"
    }
   ],
   "source": [
    "a>>2    #40/2 to the power 2==> 10"
   ]
  },
  {
   "cell_type": "code",
   "execution_count": 7,
   "id": "34befc9f",
   "metadata": {},
   "outputs": [
    {
     "data": {
      "text/plain": [
       "5"
      ]
     },
     "execution_count": 7,
     "metadata": {},
     "output_type": "execute_result"
    }
   ],
   "source": [
    "a>>3    #40/2 to the power 3==> 5"
   ]
  },
  {
   "cell_type": "markdown",
   "id": "8a500f6b",
   "metadata": {},
   "source": [
    "Not Operator"
   ]
  },
  {
   "cell_type": "raw",
   "id": "e68b871c",
   "metadata": {},
   "source": [
    "~x=-(x+1)"
   ]
  },
  {
   "cell_type": "code",
   "execution_count": 10,
   "id": "5f220c38",
   "metadata": {},
   "outputs": [
    {
     "data": {
      "text/plain": [
       "-6"
      ]
     },
     "execution_count": 10,
     "metadata": {},
     "output_type": "execute_result"
    }
   ],
   "source": [
    "~5"
   ]
  },
  {
   "cell_type": "code",
   "execution_count": 11,
   "id": "008ad279",
   "metadata": {},
   "outputs": [
    {
     "data": {
      "text/plain": [
       "39"
      ]
     },
     "execution_count": 11,
     "metadata": {},
     "output_type": "execute_result"
    }
   ],
   "source": [
    "~-40"
   ]
  },
  {
   "cell_type": "code",
   "execution_count": 12,
   "id": "d4e0b658",
   "metadata": {},
   "outputs": [],
   "source": [
    "#program that will take 2 numbers from user and print the largest"
   ]
  },
  {
   "cell_type": "code",
   "execution_count": 14,
   "id": "38056399",
   "metadata": {},
   "outputs": [
    {
     "name": "stdout",
     "output_type": "stream",
     "text": [
      "Enter the 1st Number:50\n",
      "Enter the 2nd Number:60\n",
      "The Largest Number is: 60\n"
     ]
    }
   ],
   "source": [
    "a=int(input(\"Enter the 1st Number:\"))\n",
    "b=int(input(\"Enter the 2nd Number:\"))\n",
    "Largest= a if a>b else b\n",
    "print(\"The Largest Number is:\", Largest)"
   ]
  },
  {
   "cell_type": "code",
   "execution_count": 15,
   "id": "e0da5292",
   "metadata": {},
   "outputs": [],
   "source": [
    "#program that take 3 distinct number from the user and print the largest"
   ]
  },
  {
   "cell_type": "code",
   "execution_count": 19,
   "id": "78e47545",
   "metadata": {},
   "outputs": [
    {
     "name": "stdout",
     "output_type": "stream",
     "text": [
      "Enter the 1st Number:90\n",
      "Enter the 2nd Number:100\n",
      "Enter the 3rd Number:110\n",
      "The largest Number is: 110\n"
     ]
    }
   ],
   "source": [
    "a=int(input(\"Enter the 1st Number:\"))\n",
    "b=int(input(\"Enter the 2nd Number:\"))\n",
    "c=int(input(\"Enter the 3rd Number:\"))\n",
    "result = a if a>b and a>c else b if b>c and b>a else c\n",
    "print(\"The largest Number is:\", result)"
   ]
  },
  {
   "cell_type": "markdown",
   "id": "5d945994",
   "metadata": {},
   "source": [
    "Optimization and Reusability"
   ]
  },
  {
   "cell_type": "code",
   "execution_count": 20,
   "id": "5fee4d00",
   "metadata": {},
   "outputs": [
    {
     "data": {
      "text/plain": [
       "2411140809232"
      ]
     },
     "execution_count": 20,
     "metadata": {},
     "output_type": "execute_result"
    }
   ],
   "source": [
    "a= 10\n",
    "b= 10\n",
    "id(a)\n",
    "id(b)"
   ]
  },
  {
   "cell_type": "markdown",
   "id": "4b3f6c98",
   "metadata": {},
   "source": [
    "Special operators"
   ]
  },
  {
   "cell_type": "code",
   "execution_count": 21,
   "id": "d4a15aa4",
   "metadata": {},
   "outputs": [
    {
     "data": {
      "text/plain": [
       "True"
      ]
     },
     "execution_count": 21,
     "metadata": {},
     "output_type": "execute_result"
    }
   ],
   "source": [
    "a is b "
   ]
  },
  {
   "cell_type": "code",
   "execution_count": 23,
   "id": "cbd953a5",
   "metadata": {},
   "outputs": [
    {
     "data": {
      "text/plain": [
       "2411140809296"
      ]
     },
     "execution_count": 23,
     "metadata": {},
     "output_type": "execute_result"
    }
   ],
   "source": [
    "a=12\n",
    "b=15\n",
    "id(a)"
   ]
  },
  {
   "cell_type": "code",
   "execution_count": 24,
   "id": "4382769f",
   "metadata": {},
   "outputs": [
    {
     "data": {
      "text/plain": [
       "2411140809392"
      ]
     },
     "execution_count": 24,
     "metadata": {},
     "output_type": "execute_result"
    }
   ],
   "source": [
    "id(b)"
   ]
  },
  {
   "cell_type": "code",
   "execution_count": 25,
   "id": "b8eb82c4",
   "metadata": {},
   "outputs": [
    {
     "data": {
      "text/plain": [
       "False"
      ]
     },
     "execution_count": 25,
     "metadata": {},
     "output_type": "execute_result"
    }
   ],
   "source": [
    "a is b"
   ]
  },
  {
   "cell_type": "code",
   "execution_count": 31,
   "id": "c486ef56",
   "metadata": {},
   "outputs": [],
   "source": [
    "#in operator in python is called as a member operator\n",
    "#it returns True if the given object is present in the provided sequence/order/string"
   ]
  },
  {
   "cell_type": "code",
   "execution_count": 26,
   "id": "8d6d0b73",
   "metadata": {},
   "outputs": [],
   "source": [
    "s=\"Python is a High Level Programming Language\""
   ]
  },
  {
   "cell_type": "code",
   "execution_count": 28,
   "id": "0efaefc2",
   "metadata": {},
   "outputs": [
    {
     "data": {
      "text/plain": [
       "True"
      ]
     },
     "execution_count": 28,
     "metadata": {},
     "output_type": "execute_result"
    }
   ],
   "source": [
    "\"High\" in s"
   ]
  },
  {
   "cell_type": "code",
   "execution_count": 29,
   "id": "f67de062",
   "metadata": {},
   "outputs": [
    {
     "data": {
      "text/plain": [
       "False"
      ]
     },
     "execution_count": 29,
     "metadata": {},
     "output_type": "execute_result"
    }
   ],
   "source": [
    "\"Siddhi\" in s"
   ]
  },
  {
   "cell_type": "code",
   "execution_count": 30,
   "id": "bc4bd806",
   "metadata": {},
   "outputs": [
    {
     "data": {
      "text/plain": [
       "'Python is a High Level Programming Language'"
      ]
     },
     "execution_count": 30,
     "metadata": {},
     "output_type": "execute_result"
    }
   ],
   "source": [
    "s"
   ]
  },
  {
   "cell_type": "code",
   "execution_count": 32,
   "id": "c163bab6",
   "metadata": {},
   "outputs": [
    {
     "name": "stdout",
     "output_type": "stream",
     "text": [
      "10\n",
      "30\n",
      "20\n"
     ]
    }
   ],
   "source": [
    "print(10)\n",
    "print(30)\n",
    "print(20)"
   ]
  },
  {
   "cell_type": "code",
   "execution_count": 33,
   "id": "9fbba74d",
   "metadata": {},
   "outputs": [
    {
     "name": "stdout",
     "output_type": "stream",
     "text": [
      "The value is a\n"
     ]
    }
   ],
   "source": [
    "a=10\n",
    "print(\"The value is a\")  #by default whatever in \" \" is a string"
   ]
  },
  {
   "cell_type": "code",
   "execution_count": 34,
   "id": "dd141535",
   "metadata": {},
   "outputs": [
    {
     "name": "stdout",
     "output_type": "stream",
     "text": [
      "10\n"
     ]
    }
   ],
   "source": [
    "print(a)"
   ]
  },
  {
   "cell_type": "code",
   "execution_count": 37,
   "id": "bb733761",
   "metadata": {},
   "outputs": [
    {
     "name": "stdout",
     "output_type": "stream",
     "text": [
      "15 80 19\n"
     ]
    }
   ],
   "source": [
    "a= 15\n",
    "b= 80\n",
    "c= 19\n",
    "print(a, b, c)  #all 3 values are seperated by a space"
   ]
  },
  {
   "cell_type": "markdown",
   "id": "72c7ff95",
   "metadata": {},
   "source": [
    "Sep and end operator"
   ]
  },
  {
   "cell_type": "code",
   "execution_count": 39,
   "id": "2c64e504",
   "metadata": {},
   "outputs": [
    {
     "name": "stdout",
     "output_type": "stream",
     "text": [
      "15siddhi80siddhi19\n"
     ]
    }
   ],
   "source": [
    "print(a, b, c, sep=\"siddhi\")"
   ]
  },
  {
   "cell_type": "code",
   "execution_count": 43,
   "id": "295e8a46",
   "metadata": {},
   "outputs": [
    {
     "name": "stdout",
     "output_type": "stream",
     "text": [
      "158019\n"
     ]
    }
   ],
   "source": [
    "print(a, b, c, sep=\"\")"
   ]
  },
  {
   "cell_type": "code",
   "execution_count": 44,
   "id": "aaf1b5ee",
   "metadata": {},
   "outputs": [
    {
     "name": "stdout",
     "output_type": "stream",
     "text": [
      "15 80 19siddhi"
     ]
    }
   ],
   "source": [
    "print(a, b, c, end=\"siddhi\")"
   ]
  },
  {
   "cell_type": "code",
   "execution_count": 46,
   "id": "eeb121f4",
   "metadata": {},
   "outputs": [
    {
     "name": "stdout",
     "output_type": "stream",
     "text": [
      "15siddhi80siddhi1915"
     ]
    }
   ],
   "source": [
    "print(a, b, c, sep=\"siddhi\", end=\"15\")"
   ]
  },
  {
   "cell_type": "code",
   "execution_count": 49,
   "id": "7906a98d",
   "metadata": {},
   "outputs": [
    {
     "name": "stdout",
     "output_type": "stream",
     "text": [
      "Python\n",
      "is a\n",
      "programming\n",
      "language\n"
     ]
    }
   ],
   "source": [
    "print(\"Python\\nis a\\nprogramming\\nlanguage\")"
   ]
  }
 ],
 "metadata": {
  "kernelspec": {
   "display_name": "Python 3 (ipykernel)",
   "language": "python",
   "name": "python3"
  },
  "language_info": {
   "codemirror_mode": {
    "name": "ipython",
    "version": 3
   },
   "file_extension": ".py",
   "mimetype": "text/x-python",
   "name": "python",
   "nbconvert_exporter": "python",
   "pygments_lexer": "ipython3",
   "version": "3.10.9"
  }
 },
 "nbformat": 4,
 "nbformat_minor": 5
}
