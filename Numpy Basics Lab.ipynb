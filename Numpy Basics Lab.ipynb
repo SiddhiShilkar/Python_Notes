{
 "cells": [
  {
   "cell_type": "markdown",
   "id": "5ec06760",
   "metadata": {},
   "source": [
    "# Numpy Basics Lab"
   ]
  },
  {
   "cell_type": "markdown",
   "id": "e3d1ffda",
   "metadata": {},
   "source": [
    "Q.1)WAP to create array elements between 25 to 45(20 elements).Arrange them in equal size array."
   ]
  },
  {
   "cell_type": "code",
   "execution_count": 1,
   "id": "241dce47",
   "metadata": {},
   "outputs": [
    {
     "name": "stdout",
     "output_type": "stream",
     "text": [
      "Original array:\n",
      "[25 26 27 28 29 30 31 32 33 34 35 36 37 38 39 40 41 42 43 45]\n",
      "\n",
      "Equally sized arrays:\n",
      "[25 26 27 28 29 30 31 32 33 34]\n",
      "[35 36 37 38 39 40 41 42 43 45]\n"
     ]
    }
   ],
   "source": [
    "import numpy as np\n",
    "\n",
    "# Create an array with elements between 25 and 45\n",
    "array = np.arange(25, 45)\n",
    "\n",
    "# Ensure the array has exactly 20 elements\n",
    "array = np.linspace(25, 45, 20, dtype=int)\n",
    "\n",
    "# Print the original array\n",
    "print(\"Original array:\")\n",
    "print(array)\n",
    "\n",
    "# Split the array into equal-sized subarrays\n",
    "equal_size_arrays = np.array_split(array, 2)\n",
    "\n",
    "# Print the equally sized arrays\n",
    "print(\"\\nEqually sized arrays:\")\n",
    "for subarray in equal_size_arrays:\n",
    "    print(subarray)"
   ]
  },
  {
   "cell_type": "markdown",
   "id": "26f6809a",
   "metadata": {},
   "source": [
    "Q.2)Find array element greater than 10 "
   ]
  },
  {
   "cell_type": "code",
   "execution_count": 2,
   "id": "5084d8c7",
   "metadata": {},
   "outputs": [
    {
     "name": "stdout",
     "output_type": "stream",
     "text": [
      "Elements greater than 10:\n",
      "[12 18 25 11]\n"
     ]
    }
   ],
   "source": [
    "import numpy as np\n",
    "\n",
    "# Create an example array\n",
    "array = np.array([5, 12, 7, 18, 2, 25, 9, 11])\n",
    "\n",
    "# Find elements greater than 10\n",
    "greater_than_10 = array[array > 10]\n",
    "\n",
    "# Print the result\n",
    "print(\"Elements greater than 10:\")\n",
    "print(greater_than_10)"
   ]
  },
  {
   "cell_type": "markdown",
   "id": "724fc86c",
   "metadata": {},
   "source": [
    "Q.3)WAP to concatenate two array apply all mathematical operator on the same"
   ]
  },
  {
   "cell_type": "code",
   "execution_count": 3,
   "id": "a47cd47a",
   "metadata": {},
   "outputs": [
    {
     "name": "stdout",
     "output_type": "stream",
     "text": [
      "Concatenated array: [56 48 79 46 76  2  4  6  8 10]\n",
      "\n",
      "Addition: [58 52 85 54 86]\n",
      "\n",
      "Subtraction: [54 44 73 38 66]\n",
      "\n",
      "Multiplication: [112 192 474 368 760]\n",
      "\n",
      "Division: [28 12 13  5  7]\n"
     ]
    }
   ],
   "source": [
    "import numpy as np\n",
    "\n",
    "# Create two arrays\n",
    "array1 = np.array([56, 48, 79, 46, 76])\n",
    "array2 = np.array([2, 4, 6, 8, 10])\n",
    "\n",
    "# Concatenate the arrays\n",
    "concatenated_array = np.concatenate((array1, array2))\n",
    "\n",
    "# Print the concatenated array\n",
    "print(\"Concatenated array:\", concatenated_array)\n",
    "\n",
    "# Apply mathematical operations\n",
    "addition = array1 + array2\n",
    "subtraction = array1 - array2\n",
    "multiplication = array1 * array2\n",
    "division = array1 // array2\n",
    "\n",
    "# Print the results\n",
    "print(\"\\nAddition:\", addition)\n",
    "print(\"\\nSubtraction:\", subtraction)\n",
    "print(\"\\nMultiplication:\", multiplication)\n",
    "print(\"\\nDivision:\", division)"
   ]
  },
  {
   "cell_type": "markdown",
   "id": "1f03ebad",
   "metadata": {},
   "source": [
    "Q.4) Extract all odd numbers from an array"
   ]
  },
  {
   "cell_type": "code",
   "execution_count": 4,
   "id": "18dbbe1f",
   "metadata": {},
   "outputs": [
    {
     "name": "stdout",
     "output_type": "stream",
     "text": [
      "Odd numbers: [ 5  7 25  9 11]\n"
     ]
    }
   ],
   "source": [
    "import numpy as np\n",
    "\n",
    "# Create an example array\n",
    "array = np.array([5, 12, 7, 18, 2, 25, 9, 11])\n",
    "\n",
    "# Extract odd numbers\n",
    "odd_numbers = array[array % 2 != 0]\n",
    "\n",
    "# Print the result\n",
    "print(\"Odd numbers:\", odd_numbers)"
   ]
  }
 ],
 "metadata": {
  "kernelspec": {
   "display_name": "Python 3 (ipykernel)",
   "language": "python",
   "name": "python3"
  },
  "language_info": {
   "codemirror_mode": {
    "name": "ipython",
    "version": 3
   },
   "file_extension": ".py",
   "mimetype": "text/x-python",
   "name": "python",
   "nbconvert_exporter": "python",
   "pygments_lexer": "ipython3",
   "version": "3.10.9"
  }
 },
 "nbformat": 4,
 "nbformat_minor": 5
}
