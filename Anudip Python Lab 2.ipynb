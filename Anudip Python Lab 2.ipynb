{
 "cells": [
  {
   "cell_type": "markdown",
   "id": "9afbfae9",
   "metadata": {},
   "source": [
    "# Anudip Python Lab 2"
   ]
  },
  {
   "cell_type": "code",
   "execution_count": 1,
   "id": "9ee8d0ea",
   "metadata": {},
   "outputs": [
    {
     "data": {
      "text/plain": [
       "'\\nQ.1)Write a python program to reverse a number using a while loop.\\n\\nQ.2)WAP to check whether the number is palindrom or not\\n\\nQ.3)Write a python program finding the factorial of a given number using while loop.\\n\\nQ.4)Print the sum of first 10 natural numbers using for loop\\n'"
      ]
     },
     "execution_count": 1,
     "metadata": {},
     "output_type": "execute_result"
    }
   ],
   "source": [
    "'''\n",
    "Q.1)Write a python program to reverse a number using a while loop.\n",
    "\n",
    "Q.2)WAP to check whether the number is palindrom or not\n",
    "\n",
    "Q.3)Write a python program finding the factorial of a given number using while loop.\n",
    "\n",
    "Q.4)Print the sum of first 10 natural numbers using for loop\n",
    "'''"
   ]
  },
  {
   "cell_type": "code",
   "execution_count": 2,
   "id": "b6a1ba14",
   "metadata": {},
   "outputs": [
    {
     "name": "stdout",
     "output_type": "stream",
     "text": [
      "Enter a number: 546854321678\n",
      "Reversed number: 876123458645\n"
     ]
    }
   ],
   "source": [
    "#Q.1)Write a python program to reverse a number using a while loop.\n",
    "\n",
    "number = int(input(\"Enter a number: \"))\n",
    "reversed_number = 0\n",
    "\n",
    "while number > 0:\n",
    "    digit = number % 10\n",
    "    reversed_number = (reversed_number * 10) + digit\n",
    "    number //= 10\n",
    "    \n",
    "print(\"Reversed number:\", reversed_number)"
   ]
  },
  {
   "cell_type": "code",
   "execution_count": 5,
   "id": "02931c0a",
   "metadata": {},
   "outputs": [
    {
     "name": "stdout",
     "output_type": "stream",
     "text": [
      "Enter a number: 12122121\n",
      "The number is a palindrome.\n"
     ]
    }
   ],
   "source": [
    "#Q.2)WAP to check whether the number is palindrom or not\n",
    "\n",
    "number = int(input(\"Enter a number: \"))\n",
    "original_num=number\n",
    "reversed_num=0\n",
    "while number>0:\n",
    "             digit=number%10\n",
    "             reversed_num=(reversed_num*10)+digit\n",
    "             number //= 10\n",
    "if original_num == reversed_num:\n",
    "             print(\"The number is a palindrome.\")\n",
    "else:\n",
    "             print(\"The number is not a palindrome.\")"
   ]
  },
  {
   "cell_type": "code",
   "execution_count": 6,
   "id": "66def121",
   "metadata": {},
   "outputs": [
    {
     "name": "stdout",
     "output_type": "stream",
     "text": [
      "Enter a Number to find Factorial: 5\n",
      "Factorial of 5 is 120\n"
     ]
    }
   ],
   "source": [
    "#Q.3)Write a python program finding the factorial of a given number using while loop.\n",
    "\n",
    "number=int(input(\"Enter a Number to find Factorial: \"))\n",
    "original_num = number\n",
    "factorial=1\n",
    "while number>0:\n",
    "    factorial = factorial * number\n",
    "    number = number - 1\n",
    "print(\"Factorial of\",original_num, \"is\", factorial)"
   ]
  },
  {
   "cell_type": "code",
   "execution_count": 7,
   "id": "4d6aeb1a",
   "metadata": {},
   "outputs": [
    {
     "name": "stdout",
     "output_type": "stream",
     "text": [
      "The sum of first 10 natural number is: 55\n"
     ]
    }
   ],
   "source": [
    "#Q.4)Print the sum of first 10 natural numbers using for loop\n",
    "\n",
    "sum_of_numbers =0\n",
    "\n",
    "for i in range(1, 11):\n",
    "\tsum_of_numbers += i\n",
    "\n",
    "print(\"The sum of first 10 natural number is:\", sum_of_numbers)"
   ]
  }
 ],
 "metadata": {
  "kernelspec": {
   "display_name": "Python 3 (ipykernel)",
   "language": "python",
   "name": "python3"
  },
  "language_info": {
   "codemirror_mode": {
    "name": "ipython",
    "version": 3
   },
   "file_extension": ".py",
   "mimetype": "text/x-python",
   "name": "python",
   "nbconvert_exporter": "python",
   "pygments_lexer": "ipython3",
   "version": "3.10.9"
  }
 },
 "nbformat": 4,
 "nbformat_minor": 5
}
