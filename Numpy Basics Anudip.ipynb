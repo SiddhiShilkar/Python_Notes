{
 "cells": [
  {
   "cell_type": "code",
   "execution_count": 1,
   "id": "82b19960",
   "metadata": {},
   "outputs": [
    {
     "name": "stdout",
     "output_type": "stream",
     "text": [
      "[45 56 78  0 34]\n"
     ]
    },
    {
     "data": {
      "text/plain": [
       "numpy.ndarray"
      ]
     },
     "execution_count": 1,
     "metadata": {},
     "output_type": "execute_result"
    }
   ],
   "source": [
    "import numpy as np\n",
    "list1=[45,56,78,0,34]\n",
    "myarray=np.array(list1)\n",
    "print(myarray)\n",
    "type(myarray)"
   ]
  },
  {
   "cell_type": "code",
   "execution_count": 2,
   "id": "4919ab85",
   "metadata": {},
   "outputs": [
    {
     "name": "stdout",
     "output_type": "stream",
     "text": [
      "[[1 3 6]\n",
      " [6 4 8]\n",
      " [7 5 4]]\n"
     ]
    }
   ],
   "source": [
    "import numpy as np\n",
    "list2=[[1,3,6],[6,4,8],[7,5,4]]\n",
    "array1=np.array(list2)\n",
    "print(array1)"
   ]
  },
  {
   "cell_type": "code",
   "execution_count": 6,
   "id": "f27b8938",
   "metadata": {},
   "outputs": [
    {
     "name": "stdout",
     "output_type": "stream",
     "text": [
      "[25 27 29 31 33 35 37 39 41 43 45 47 49 51 53 55 57 59 61 63 65 67 69 71\n",
      " 73 75 77 79 81 83 85 87 89 91 93 95 97 99]\n"
     ]
    }
   ],
   "source": [
    "import numpy as np\n",
    "array1=np.arange(25,101,2)\n",
    "print(array1)"
   ]
  },
  {
   "cell_type": "code",
   "execution_count": 7,
   "id": "f1d71e5f",
   "metadata": {},
   "outputs": [],
   "source": [
    "import pandas as pd\n",
    "import numpy as np\n",
    "import matplotlib.pyplot as plt"
   ]
  },
  {
   "cell_type": "code",
   "execution_count": 8,
   "id": "c159831d",
   "metadata": {},
   "outputs": [],
   "source": [
    "import warnings\n",
    "warnings.filterwarnings('ignore')\n",
    "ip=pd.read_csv('C:/Users/Vilas/Downloads/mypython.csv')"
   ]
  },
  {
   "cell_type": "code",
   "execution_count": 9,
   "id": "0331a411",
   "metadata": {},
   "outputs": [
    {
     "data": {
      "text/html": [
       "<div>\n",
       "<style scoped>\n",
       "    .dataframe tbody tr th:only-of-type {\n",
       "        vertical-align: middle;\n",
       "    }\n",
       "\n",
       "    .dataframe tbody tr th {\n",
       "        vertical-align: top;\n",
       "    }\n",
       "\n",
       "    .dataframe thead th {\n",
       "        text-align: right;\n",
       "    }\n",
       "</style>\n",
       "<table border=\"1\" class=\"dataframe\">\n",
       "  <thead>\n",
       "    <tr style=\"text-align: right;\">\n",
       "      <th></th>\n",
       "      <th>Code</th>\n",
       "      <th>Industry</th>\n",
       "      <th>Employed_census_usually_resident_population_count_aged_15_years_and_over</th>\n",
       "      <th>SalaryBonus</th>\n",
       "    </tr>\n",
       "  </thead>\n",
       "  <tbody>\n",
       "    <tr>\n",
       "      <th>0</th>\n",
       "      <td>A011100</td>\n",
       "      <td>Nursery Production (Under Cover)</td>\n",
       "      <td>1191</td>\n",
       "      <td>5000.0</td>\n",
       "    </tr>\n",
       "    <tr>\n",
       "      <th>1</th>\n",
       "      <td>A011200</td>\n",
       "      <td>Nursery Production (Outdoors)</td>\n",
       "      <td>1638</td>\n",
       "      <td>1000.0</td>\n",
       "    </tr>\n",
       "    <tr>\n",
       "      <th>2</th>\n",
       "      <td>A011300</td>\n",
       "      <td>Turf Growing</td>\n",
       "      <td>66</td>\n",
       "      <td>500.0</td>\n",
       "    </tr>\n",
       "    <tr>\n",
       "      <th>3</th>\n",
       "      <td>A011400</td>\n",
       "      <td>Floriculture Production (Under Cover)</td>\n",
       "      <td>834</td>\n",
       "      <td>501.0</td>\n",
       "    </tr>\n",
       "    <tr>\n",
       "      <th>4</th>\n",
       "      <td>A011500</td>\n",
       "      <td>Floriculture Production (Outdoors)</td>\n",
       "      <td>132</td>\n",
       "      <td>502.0</td>\n",
       "    </tr>\n",
       "  </tbody>\n",
       "</table>\n",
       "</div>"
      ],
      "text/plain": [
       "      Code                               Industry  \\\n",
       "0  A011100       Nursery Production (Under Cover)   \n",
       "1  A011200          Nursery Production (Outdoors)   \n",
       "2  A011300                           Turf Growing   \n",
       "3  A011400  Floriculture Production (Under Cover)   \n",
       "4  A011500     Floriculture Production (Outdoors)   \n",
       "\n",
       "   Employed_census_usually_resident_population_count_aged_15_years_and_over  \\\n",
       "0                                               1191                          \n",
       "1                                               1638                          \n",
       "2                                                 66                          \n",
       "3                                                834                          \n",
       "4                                                132                          \n",
       "\n",
       "   SalaryBonus  \n",
       "0       5000.0  \n",
       "1       1000.0  \n",
       "2        500.0  \n",
       "3        501.0  \n",
       "4        502.0  "
      ]
     },
     "execution_count": 9,
     "metadata": {},
     "output_type": "execute_result"
    }
   ],
   "source": [
    "ip.head()"
   ]
  },
  {
   "cell_type": "code",
   "execution_count": 10,
   "id": "0afbef5f",
   "metadata": {},
   "outputs": [
    {
     "name": "stdout",
     "output_type": "stream",
     "text": [
      "<class 'pandas.core.frame.DataFrame'>\n",
      "RangeIndex: 513 entries, 0 to 512\n",
      "Data columns (total 4 columns):\n",
      " #   Column                                                                    Non-Null Count  Dtype  \n",
      "---  ------                                                                    --------------  -----  \n",
      " 0   Code                                                                      513 non-null    object \n",
      " 1   Industry                                                                  513 non-null    object \n",
      " 2   Employed_census_usually_resident_population_count_aged_15_years_and_over  513 non-null    int64  \n",
      " 3   SalaryBonus                                                               55 non-null     float64\n",
      "dtypes: float64(1), int64(1), object(2)\n",
      "memory usage: 16.2+ KB\n"
     ]
    }
   ],
   "source": [
    "ip.info()"
   ]
  },
  {
   "cell_type": "code",
   "execution_count": 11,
   "id": "51fc10ec",
   "metadata": {},
   "outputs": [
    {
     "data": {
      "text/plain": [
       "Index(['Code', 'Industry',\n",
       "       'Employed_census_usually_resident_population_count_aged_15_years_and_over',\n",
       "       'SalaryBonus'],\n",
       "      dtype='object')"
      ]
     },
     "execution_count": 11,
     "metadata": {},
     "output_type": "execute_result"
    }
   ],
   "source": [
    "ip.columns"
   ]
  },
  {
   "cell_type": "code",
   "execution_count": 12,
   "id": "6b79d9e8",
   "metadata": {},
   "outputs": [
    {
     "data": {
      "text/plain": [
       "Code                                                                        513\n",
       "Industry                                                                    513\n",
       "Employed_census_usually_resident_population_count_aged_15_years_and_over    513\n",
       "SalaryBonus                                                                  55\n",
       "dtype: int64"
      ]
     },
     "execution_count": 12,
     "metadata": {},
     "output_type": "execute_result"
    }
   ],
   "source": [
    "ip.count()"
   ]
  },
  {
   "cell_type": "code",
   "execution_count": 13,
   "id": "68df40d9",
   "metadata": {},
   "outputs": [
    {
     "name": "stdout",
     "output_type": "stream",
     "text": [
      "[[11 12 13 14]\n",
      " [15 16 17 18]]\n"
     ]
    }
   ],
   "source": [
    "import numpy as np\n",
    "array1=np.arange(11,19).reshape((2,4))\n",
    "print(array1)"
   ]
  },
  {
   "cell_type": "code",
   "execution_count": null,
   "id": "c8b3cbab",
   "metadata": {},
   "outputs": [],
   "source": []
  }
 ],
 "metadata": {
  "kernelspec": {
   "display_name": "Python 3 (ipykernel)",
   "language": "python",
   "name": "python3"
  },
  "language_info": {
   "codemirror_mode": {
    "name": "ipython",
    "version": 3
   },
   "file_extension": ".py",
   "mimetype": "text/x-python",
   "name": "python",
   "nbconvert_exporter": "python",
   "pygments_lexer": "ipython3",
   "version": "3.10.9"
  }
 },
 "nbformat": 4,
 "nbformat_minor": 5
}
