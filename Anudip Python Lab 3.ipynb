{
 "cells": [
  {
   "cell_type": "markdown",
   "id": "5d964a69",
   "metadata": {},
   "source": [
    "# Anudip Python Lab 3"
   ]
  },
  {
   "cell_type": "code",
   "execution_count": 1,
   "id": "db025933",
   "metadata": {},
   "outputs": [
    {
     "data": {
      "text/plain": [
       "'\\nQ.1)Write a  Python program to create a tuple of numbers and print it in reverse.\\n\\nQ.2)Python program to interchange first and last elements in a list\\n\\nQ.3)Python | Cloning or Copying a list into anotherlist\\n'"
      ]
     },
     "execution_count": 1,
     "metadata": {},
     "output_type": "execute_result"
    }
   ],
   "source": [
    "'''\n",
    "Q.1)Write a  Python program to create a tuple of numbers and print it in reverse.\n",
    "\n",
    "Q.2)Python program to interchange first and last elements in a list\n",
    "\n",
    "Q.3)Python | Cloning or Copying a list into anotherlist\n",
    "'''"
   ]
  },
  {
   "cell_type": "code",
   "execution_count": 2,
   "id": "c2ef0d9f",
   "metadata": {},
   "outputs": [
    {
     "name": "stdout",
     "output_type": "stream",
     "text": [
      "The original tuple is: [1, 2, 3, 4, 5]\n",
      "The reversed tuple is: [5, 4, 3, 2, 1]\n"
     ]
    }
   ],
   "source": [
    "#Q.1)Write a  Python program to create a tuple of numbers and print it in reverse.\n",
    "\n",
    "a=[1, 2, 3, 4, 5]\n",
    "\n",
    "original_tuple = a\n",
    "reversed_tuple=a[::-1]\n",
    "\n",
    "print(\"The original tuple is:\", original_tuple)\n",
    "print(\"The reversed tuple is:\", reversed_tuple)"
   ]
  },
  {
   "cell_type": "code",
   "execution_count": 3,
   "id": "10035b4e",
   "metadata": {},
   "outputs": [
    {
     "name": "stdout",
     "output_type": "stream",
     "text": [
      "Interchanging the 1st and last element in list, the result is: [5, 2, 3, 4, 1]\n"
     ]
    }
   ],
   "source": [
    "#Q.2)Python program to interchange first and last elements in a list\n",
    "\n",
    "a=[1,2,3,4,5]\n",
    "\n",
    "a[0],a[-1]=a[-1],a[0]\n",
    "print(\"Interchanging the 1st and last element in list, the result is:\", a)"
   ]
  },
  {
   "cell_type": "code",
   "execution_count": 4,
   "id": "bd3b6740",
   "metadata": {},
   "outputs": [
    {
     "name": "stdout",
     "output_type": "stream",
     "text": [
      "The Original list is: [1, 2, 3, 4, 5]\n",
      "The Copied list is: [1, 2, 3, 4, 5]\n"
     ]
    }
   ],
   "source": [
    "#Q.3)Python | Cloning or Copying a list into anotherlist\n",
    "\n",
    "a=[1,2,3,4,5]\n",
    "\n",
    "original_list=a\n",
    "copied_list=original_list[:]\n",
    "\n",
    "print(\"The Original list is:\", original_list)\n",
    "print(\"The Copied list is:\", copied_list)"
   ]
  }
 ],
 "metadata": {
  "kernelspec": {
   "display_name": "Python 3 (ipykernel)",
   "language": "python",
   "name": "python3"
  },
  "language_info": {
   "codemirror_mode": {
    "name": "ipython",
    "version": 3
   },
   "file_extension": ".py",
   "mimetype": "text/x-python",
   "name": "python",
   "nbconvert_exporter": "python",
   "pygments_lexer": "ipython3",
   "version": "3.10.9"
  }
 },
 "nbformat": 4,
 "nbformat_minor": 5
}
