{
 "cells": [
  {
   "cell_type": "markdown",
   "id": "ca9de0ac",
   "metadata": {},
   "source": [
    "# Anudip Python Lab 1"
   ]
  },
  {
   "cell_type": "code",
   "execution_count": 1,
   "id": "d2026709",
   "metadata": {},
   "outputs": [
    {
     "data": {
      "text/plain": [
       "'\\nQ.1) WAP to print area of rectangle.\\n\\nQ.2) WAP to calculate simple interest.(Assuming rate of interest =7.5)\\n\\nQ.3) WAP to validate age using if...else statement.\\n'"
      ]
     },
     "execution_count": 1,
     "metadata": {},
     "output_type": "execute_result"
    }
   ],
   "source": [
    "'''\n",
    "Q.1) WAP to print area of rectangle.\n",
    "\n",
    "Q.2) WAP to calculate simple interest.(Assuming rate of interest =7.5)\n",
    "\n",
    "Q.3) WAP to validate age using if...else statement.\n",
    "'''"
   ]
  },
  {
   "cell_type": "code",
   "execution_count": 2,
   "id": "aaf16121",
   "metadata": {},
   "outputs": [
    {
     "name": "stdout",
     "output_type": "stream",
     "text": [
      "Enter length of Rectangle: 6\n",
      "Enter breadth of Rectangle: 4\n",
      "The Area of Rectangle is:  24.0\n"
     ]
    }
   ],
   "source": [
    "#Q.1) WAP to print area of rectangle\n",
    "\n",
    "a=float(input(\"Enter length of Rectangle: \"))\n",
    "b=float(input(\"Enter breadth of Rectangle: \"))\n",
    "Area=a*b\n",
    "print(\"The Area of Rectangle is: \", Area)"
   ]
  },
  {
   "cell_type": "code",
   "execution_count": 3,
   "id": "f6133236",
   "metadata": {},
   "outputs": [
    {
     "name": "stdout",
     "output_type": "stream",
     "text": [
      "Enter the principal amount: 65000\n",
      "Enter the time period (in years): 2\n",
      "The Simple Interest is: 9750.0\n"
     ]
    }
   ],
   "source": [
    "#Q.2) WAP to calculate simple interest.(Assuming rate of interest =7.5)\n",
    "\n",
    "principal = float(input(\"Enter the principal amount: \"))\n",
    "rate = 7.5\t#assuming rate is 7.5\n",
    "time= int(input(\"Enter the time period (in years): \"))\n",
    "\n",
    "simple_interest = (principal*rate*time)/100\n",
    "print(\"The Simple Interest is:\", simple_interest)"
   ]
  },
  {
   "cell_type": "code",
   "execution_count": 4,
   "id": "62e8e36c",
   "metadata": {},
   "outputs": [
    {
     "name": "stdout",
     "output_type": "stream",
     "text": [
      "Enter you Age: 18\n",
      "You are eligible to vote!\n"
     ]
    }
   ],
   "source": [
    "#Q.3) WAP to validate age using if...else statement.\n",
    "\n",
    "a=int(input(\"Enter you Age: \"))\n",
    "if a>=18:\n",
    "    print(\"You are eligible to vote!\")\n",
    "else:\n",
    "    print(\"You are not eligible to vote :( \")"
   ]
  },
  {
   "cell_type": "code",
   "execution_count": 5,
   "id": "88f87b71",
   "metadata": {},
   "outputs": [
    {
     "name": "stdout",
     "output_type": "stream",
     "text": [
      "Enter you Age: 10\n",
      "You are not eligible to vote :( \n"
     ]
    }
   ],
   "source": [
    "#Q.3) WAP to validate age using if...else statement.\n",
    "\n",
    "a=int(input(\"Enter you Age: \"))\n",
    "if a>=18:\n",
    "    print(\"You are eligible to vote!\")\n",
    "else:\n",
    "    print(\"You are not eligible to vote :( \")"
   ]
  },
  {
   "cell_type": "code",
   "execution_count": 6,
   "id": "e29d7319",
   "metadata": {},
   "outputs": [
    {
     "name": "stdout",
     "output_type": "stream",
     "text": [
      "Enter you Age: 60\n",
      "You are eligible to vote!\n"
     ]
    }
   ],
   "source": [
    "#Q.3) WAP to validate age using if...else statement.\n",
    "\n",
    "a=int(input(\"Enter you Age: \"))\n",
    "if a>=18:\n",
    "    print(\"You are eligible to vote!\")\n",
    "else:\n",
    "    print(\"You are not eligible to vote :( \")"
   ]
  },
  {
   "cell_type": "code",
   "execution_count": null,
   "id": "3a510251",
   "metadata": {},
   "outputs": [],
   "source": []
  }
 ],
 "metadata": {
  "kernelspec": {
   "display_name": "Python 3 (ipykernel)",
   "language": "python",
   "name": "python3"
  },
  "language_info": {
   "codemirror_mode": {
    "name": "ipython",
    "version": 3
   },
   "file_extension": ".py",
   "mimetype": "text/x-python",
   "name": "python",
   "nbconvert_exporter": "python",
   "pygments_lexer": "ipython3",
   "version": "3.10.9"
  }
 },
 "nbformat": 4,
 "nbformat_minor": 5
}
